{
  "nbformat": 4,
  "nbformat_minor": 0,
  "metadata": {
    "colab": {
      "name": "Python_openpyxl_intro.ipynb",
      "provenance": [],
      "collapsed_sections": [],
      "authorship_tag": "ABX9TyP+IKfSmOuYQaOPeGWHfOPh",
      "include_colab_link": true
    },
    "kernelspec": {
      "name": "python3",
      "display_name": "Python 3"
    },
    "language_info": {
      "name": "python"
    }
  },
  "cells": [
    {
      "cell_type": "markdown",
      "metadata": {
        "id": "view-in-github",
        "colab_type": "text"
      },
      "source": [
        "<a href=\"https://colab.research.google.com/github/lucasvx273/Python_openpyxl_LPS/blob/main/Python_openpyxl_intro01.ipynb\" target=\"_parent\"><img src=\"https://colab.research.google.com/assets/colab-badge.svg\" alt=\"Open In Colab\"/></a>"
      ]
    },
    {
      "cell_type": "markdown",
      "source": [
        "# **Como utilizar Excel e Python**\n",
        "\n",
        "**Módulo openpyxl**\n",
        "\n",
        "# atualizando o pacote\n",
        "!pip install -U openpyxl -q"
      ],
      "metadata": {
        "id": "ilCm2nwbKDeq"
      }
    },
    {
      "cell_type": "code",
      "execution_count": null,
      "metadata": {
        "id": "-2gvn_5bKB9T"
      },
      "outputs": [],
      "source": [
        "!pip install -U openpyxl -q\n",
        "\n",
        "# importando a lib\n",
        "from openpyxl import Workbook\n",
        "\n",
        "# criando o workbook/ planilha\n",
        "workbook = Workbook()\n",
        "\n",
        "# selecionando a aba\n",
        "sheet = workbook.active\n",
        "\n",
        "# para salvar as alterações, utilizar o comando abaixo\n",
        "workbook.save(filename='helloworld.xlsx')"
      ]
    },
    {
      "cell_type": "markdown",
      "source": [
        "Formas de acessar a celula:"
      ],
      "metadata": {
        "id": "0q17fRmTLj9q"
      }
    },
    {
      "cell_type": "code",
      "source": [
        "# acesando as células\n",
        "sheet['F10'].value"
      ],
      "metadata": {
        "id": "OdIQdJ8nLl1R"
      },
      "execution_count": null,
      "outputs": []
    },
    {
      "cell_type": "markdown",
      "source": [
        "ou:"
      ],
      "metadata": {
        "id": "C_1HGCziLnba"
      }
    },
    {
      "cell_type": "code",
      "source": [
        "# acessando as células\n",
        "sheet.cell(row=10, column=6).value"
      ],
      "metadata": {
        "id": "bqWWQtCdLpPR"
      },
      "execution_count": null,
      "outputs": []
    },
    {
      "cell_type": "markdown",
      "source": [
        "Caregar uma Planilha:\n",
        "\n",
        "from openpyxl import load_workbook\n",
        "workbook = load_workbook(filename='controle_da_empresa.xlsx')\n"
      ],
      "metadata": {
        "id": "wUJ-jRrYLyMh"
      }
    },
    {
      "cell_type": "code",
      "source": [
        "!pip install -U openpyxl -q\n",
        "\n",
        "# carregando uma planilha\n",
        "from openpyxl import load_workbook\n",
        "\n",
        "# carregando o arquivo\n",
        "workbook = load_workbook(filename='/content/Teste Python.xlsx')\n",
        "\n",
        "# verificando as abas\n",
        "workbook.sheetnames #Ou::: sheet.title"
      ],
      "metadata": {
        "colab": {
          "base_uri": "https://localhost:8080/"
        },
        "id": "ykqxHTx5L0nq",
        "outputId": "7a8038f1-c89e-4fca-f233-20faa2f2de96"
      },
      "execution_count": 59,
      "outputs": [
        {
          "output_type": "execute_result",
          "data": {
            "text/plain": [
              "['1640674804006']"
            ]
          },
          "metadata": {},
          "execution_count": 59
        }
      ]
    },
    {
      "cell_type": "code",
      "source": [
        "workbook.save(filename='teste1.xlsx')"
      ],
      "metadata": {
        "id": "0g6riEVjMsTj"
      },
      "execution_count": 12,
      "outputs": []
    },
    {
      "cell_type": "code",
      "source": [
        "sheet = workbook.active\n",
        "x = 'F2'\n",
        "\n",
        "sheet[x] = '= C2-D2'\n",
        "sheet[\"F2\"].value"
      ],
      "metadata": {
        "colab": {
          "base_uri": "https://localhost:8080/",
          "height": 35
        },
        "id": "kktV90Z3MwTS",
        "outputId": "3098cf17-df55-4223-f513-306fb16330f5"
      },
      "execution_count": 60,
      "outputs": [
        {
          "output_type": "execute_result",
          "data": {
            "application/vnd.google.colaboratory.intrinsic+json": {
              "type": "string"
            },
            "text/plain": [
              "'= C2-D2'"
            ]
          },
          "metadata": {},
          "execution_count": 60
        }
      ]
    },
    {
      "cell_type": "markdown",
      "source": [
        "Comando::: **sheet.max_row** (Traz o número máximo de linhas)\n",
        "\n",
        "\n",
        "Comando::: **sheet.max_column** (Traz o número máximo de colunas)"
      ],
      "metadata": {
        "id": "DDM0dJzhquJ8"
      }
    },
    {
      "cell_type": "code",
      "source": [
        "max_linha = sheet.max_row\n",
        "max_coluna = sheet.max_column\n",
        "row_x = 2\n",
        "column = 6\n",
        "y = \"F\"\n",
        "z = str(row_x)\n",
        "x = y + z\n",
        "print(x)\n",
        "print(type(x))\n",
        "\n",
        "for n in range(1,max_linha-1):\n",
        "    sheet[x] = \"65\"\n",
        "    row_x += 1\n",
        "\n",
        "#mostrar valores de linhas\n",
        "for value in sheet.iter_rows(min_row=1,\n",
        "                           max_row=5,\n",
        "                           min_col=1,\n",
        "                           max_col=6,\n",
        "                           values_only=True):\n",
        "  print(value)"
      ],
      "metadata": {
        "colab": {
          "base_uri": "https://localhost:8080/"
        },
        "id": "-q69cRXqO2Pm",
        "outputId": "22fabbf2-daf0-427f-dfec-c63f0f4ce306"
      },
      "execution_count": 82,
      "outputs": [
        {
          "output_type": "stream",
          "name": "stdout",
          "text": [
            "F2\n",
            "<class 'str'>\n",
            "('vehicleTypeCodeName', 'startHour', 'endHour', 'duration', 'activityCodeName', None)\n",
            "('2 - Trator John Deere 8260', datetime.time(0, 0), datetime.time(1, 0), datetime.time(1, 0), 'OFF - Desligamento/Shutdown', '65')\n",
            "('2 - Trator John Deere 8260', datetime.time(1, 0), datetime.time(2, 0), datetime.time(1, 0), 'OFF - Desligamento/Shutdown', '65')\n",
            "('2 - Trator John Deere 8260', datetime.time(2, 0), datetime.time(3, 0), datetime.time(1, 0), 'OFF - Desligamento/Shutdown', '65')\n",
            "('2 - Trator John Deere 8260', datetime.time(3, 0), datetime.time(4, 0), datetime.time(1, 0), 'OFF - Desligamento/Shutdown', '65')\n"
          ]
        }
      ]
    },
    {
      "cell_type": "code",
      "source": [
        "workbook.save(filename='teste1.xlsx')"
      ],
      "metadata": {
        "id": "00S1pyYLM73d"
      },
      "execution_count": 76,
      "outputs": []
    },
    {
      "cell_type": "markdown",
      "source": [
        "# Iterando os dados excel"
      ],
      "metadata": {
        "id": "-dqY-Kk7qRKV"
      }
    },
    {
      "cell_type": "code",
      "source": [
        "# carregando uma planilha\n",
        "from openpyxl import load_workbook\n",
        "\n",
        "workbook = load_workbook(filename='/content/Teste Python.xlsx')\n",
        "\n",
        "# verificando as abas\n",
        "sheet = workbook[\"1640674804006\"]  # Também poderia ser::: workbook.active"
      ],
      "metadata": {
        "id": "8N0kHeBJqUuw"
      },
      "execution_count": 83,
      "outputs": []
    },
    {
      "cell_type": "code",
      "source": [
        "# iterando sobre os dados\n",
        "for value in sheet.iter_rows(min_row=2, max_row=sheet.max_row,min_col=2,max_col=sheet.max_column,values_only=True):\n",
        "  print(value)"
      ],
      "metadata": {
        "id": "QNblwmKuqVFB"
      },
      "execution_count": 85,
      "outputs": []
    },
    {
      "cell_type": "code",
      "source": [
        "#Agora iremos criar um índice na coluna F para nortear os dados:\n",
        "max_linha = sheet.max_row\n",
        "row_x = int(1)\n",
        "x = str(\"F\" + str(row_x))\n",
        "\n",
        "\n",
        "for n in range(2, max_linha+1):\n",
        "    row_x += 1\n",
        "    x = str(\"F\" + str(row_x))\n",
        "    sheet[x].value = x\n",
        "\n",
        "sheet[\"F1\"].value = \"Índice\"\n",
        "\n",
        "#Iterar dados para ver se indice foi criado\n",
        "for value in sheet.iter_rows(min_row=1,\n",
        "                           max_row=5,\n",
        "                           min_col=1,\n",
        "                           max_col=6,\n",
        "                           values_only=True):\n",
        "  print(value)"
      ],
      "metadata": {
        "colab": {
          "base_uri": "https://localhost:8080/"
        },
        "id": "NfyX4s6vqVLx",
        "outputId": "979db104-7ffc-4a54-d2eb-4ffe874d8cd9"
      },
      "execution_count": 127,
      "outputs": [
        {
          "output_type": "stream",
          "name": "stdout",
          "text": [
            "('vehicleTypeCodeName', 'startHour', 'endHour', 'duration', 'activityCodeName', 'Índice')\n",
            "('2 - Trator John Deere 8260', datetime.time(0, 0), datetime.time(1, 0), datetime.time(1, 0), 'OFF - Desligamento/Shutdown', 'F2')\n",
            "('2 - Trator John Deere 8260', datetime.time(1, 0), datetime.time(2, 0), datetime.time(1, 0), 'OFF - Desligamento/Shutdown', 'F3')\n",
            "('2 - Trator John Deere 8260', datetime.time(2, 0), datetime.time(3, 0), datetime.time(1, 0), 'OFF - Desligamento/Shutdown', 'F4')\n",
            "('2 - Trator John Deere 8260', datetime.time(3, 0), datetime.time(4, 0), datetime.time(1, 0), 'OFF - Desligamento/Shutdown', 'F5')\n"
          ]
        }
      ]
    },
    {
      "cell_type": "markdown",
      "source": [
        "# Convertendo a planilha em um Data Frame"
      ],
      "metadata": {
        "id": "oBY5KUG0qLSN"
      }
    },
    {
      "cell_type": "code",
      "source": [
        "#Criação de um dicionário seguindo o índice criado anteriormente:\n",
        "indice = {}\n",
        "\n",
        "for celula in sheet.iter_rows(min_row=2,max_col=6,\n",
        "                              values_only=True):\n",
        "  \n",
        "  chave = celula[5]\n",
        "  sumario = {\n",
        "      \"type\": celula[0],\n",
        "      \"start\": celula[1],\n",
        "      \"end\": celula[2],\n",
        "      \"duration\": celula[3],\n",
        "      \"activity\": celula[4]\n",
        "  }\n",
        "  indice[chave] = sumario\n",
        "  ### utilizado 3 variaveis de dicionário para criação deste: indice, sumario e chave"
      ],
      "metadata": {
        "id": "Qhy1vgDbQ9FI"
      },
      "execution_count": 235,
      "outputs": []
    },
    {
      "cell_type": "markdown",
      "source": [
        "**df = pd.DataFrame.from_dict(products, orient=\"index\")**"
      ],
      "metadata": {
        "id": "3eCcKpOe2hWE"
      }
    },
    {
      "cell_type": "code",
      "source": [
        "# Agora literalmente passando os dados para data frame via pandas\n",
        "import pandas as pd\n",
        "df = pd.DataFrame.from_dict(indice, orient=\"index\")\n",
        "df"
      ],
      "metadata": {
        "colab": {
          "base_uri": "https://localhost:8080/",
          "height": 424
        },
        "id": "OvF_9IXG0W8Q",
        "outputId": "caeb8f88-7789-4424-b4f8-ba87c0050891"
      },
      "execution_count": 239,
      "outputs": [
        {
          "output_type": "execute_result",
          "data": {
            "text/html": [
              "\n",
              "  <div id=\"df-4656d7a8-a91d-4d37-b8a9-8e832a48b285\">\n",
              "    <div class=\"colab-df-container\">\n",
              "      <div>\n",
              "<style scoped>\n",
              "    .dataframe tbody tr th:only-of-type {\n",
              "        vertical-align: middle;\n",
              "    }\n",
              "\n",
              "    .dataframe tbody tr th {\n",
              "        vertical-align: top;\n",
              "    }\n",
              "\n",
              "    .dataframe thead th {\n",
              "        text-align: right;\n",
              "    }\n",
              "</style>\n",
              "<table border=\"1\" class=\"dataframe\">\n",
              "  <thead>\n",
              "    <tr style=\"text-align: right;\">\n",
              "      <th></th>\n",
              "      <th>type</th>\n",
              "      <th>start</th>\n",
              "      <th>end</th>\n",
              "      <th>duration</th>\n",
              "      <th>activity</th>\n",
              "    </tr>\n",
              "  </thead>\n",
              "  <tbody>\n",
              "    <tr>\n",
              "      <th>F2</th>\n",
              "      <td>2 - Trator John Deere 8260</td>\n",
              "      <td>00:00:00</td>\n",
              "      <td>01:00:00</td>\n",
              "      <td>01:00:00</td>\n",
              "      <td>OFF - Desligamento/Shutdown</td>\n",
              "    </tr>\n",
              "    <tr>\n",
              "      <th>F3</th>\n",
              "      <td>2 - Trator John Deere 8260</td>\n",
              "      <td>01:00:00</td>\n",
              "      <td>02:00:00</td>\n",
              "      <td>01:00:00</td>\n",
              "      <td>OFF - Desligamento/Shutdown</td>\n",
              "    </tr>\n",
              "    <tr>\n",
              "      <th>F4</th>\n",
              "      <td>2 - Trator John Deere 8260</td>\n",
              "      <td>02:00:00</td>\n",
              "      <td>03:00:00</td>\n",
              "      <td>01:00:00</td>\n",
              "      <td>OFF - Desligamento/Shutdown</td>\n",
              "    </tr>\n",
              "    <tr>\n",
              "      <th>F5</th>\n",
              "      <td>2 - Trator John Deere 8260</td>\n",
              "      <td>03:00:00</td>\n",
              "      <td>04:00:00</td>\n",
              "      <td>01:00:00</td>\n",
              "      <td>OFF - Desligamento/Shutdown</td>\n",
              "    </tr>\n",
              "    <tr>\n",
              "      <th>F6</th>\n",
              "      <td>2 - Trator John Deere 8260</td>\n",
              "      <td>04:00:00</td>\n",
              "      <td>05:00:00</td>\n",
              "      <td>01:00:00</td>\n",
              "      <td>OFF - Desligamento/Shutdown</td>\n",
              "    </tr>\n",
              "    <tr>\n",
              "      <th>...</th>\n",
              "      <td>...</td>\n",
              "      <td>...</td>\n",
              "      <td>...</td>\n",
              "      <td>...</td>\n",
              "      <td>...</td>\n",
              "    </tr>\n",
              "    <tr>\n",
              "      <th>F10436</th>\n",
              "      <td>8 - Trator Case 260 (Remap. 290cv) / Case MX 315</td>\n",
              "      <td>19:00:00</td>\n",
              "      <td>20:00:00</td>\n",
              "      <td>01:00:00</td>\n",
              "      <td>0 - Não selecionada/Not confirmed</td>\n",
              "    </tr>\n",
              "    <tr>\n",
              "      <th>F10437</th>\n",
              "      <td>8 - Trator Case 260 (Remap. 290cv) / Case MX 315</td>\n",
              "      <td>20:00:00</td>\n",
              "      <td>21:00:00</td>\n",
              "      <td>01:00:00</td>\n",
              "      <td>0 - Não selecionada/Not confirmed</td>\n",
              "    </tr>\n",
              "    <tr>\n",
              "      <th>F10438</th>\n",
              "      <td>8 - Trator Case 260 (Remap. 290cv) / Case MX 315</td>\n",
              "      <td>21:00:00</td>\n",
              "      <td>22:00:00</td>\n",
              "      <td>01:00:00</td>\n",
              "      <td>0 - Não selecionada/Not confirmed</td>\n",
              "    </tr>\n",
              "    <tr>\n",
              "      <th>F10439</th>\n",
              "      <td>8 - Trator Case 260 (Remap. 290cv) / Case MX 315</td>\n",
              "      <td>22:00:00</td>\n",
              "      <td>23:00:00</td>\n",
              "      <td>01:00:00</td>\n",
              "      <td>0 - Não selecionada/Not confirmed</td>\n",
              "    </tr>\n",
              "    <tr>\n",
              "      <th>F10440</th>\n",
              "      <td>8 - Trator Case 260 (Remap. 290cv) / Case MX 315</td>\n",
              "      <td>23:00:00</td>\n",
              "      <td>00:00:00</td>\n",
              "      <td>01:00:00</td>\n",
              "      <td>0 - Não selecionada/Not confirmed</td>\n",
              "    </tr>\n",
              "  </tbody>\n",
              "</table>\n",
              "<p>10439 rows × 5 columns</p>\n",
              "</div>\n",
              "      <button class=\"colab-df-convert\" onclick=\"convertToInteractive('df-4656d7a8-a91d-4d37-b8a9-8e832a48b285')\"\n",
              "              title=\"Convert this dataframe to an interactive table.\"\n",
              "              style=\"display:none;\">\n",
              "        \n",
              "  <svg xmlns=\"http://www.w3.org/2000/svg\" height=\"24px\"viewBox=\"0 0 24 24\"\n",
              "       width=\"24px\">\n",
              "    <path d=\"M0 0h24v24H0V0z\" fill=\"none\"/>\n",
              "    <path d=\"M18.56 5.44l.94 2.06.94-2.06 2.06-.94-2.06-.94-.94-2.06-.94 2.06-2.06.94zm-11 1L8.5 8.5l.94-2.06 2.06-.94-2.06-.94L8.5 2.5l-.94 2.06-2.06.94zm10 10l.94 2.06.94-2.06 2.06-.94-2.06-.94-.94-2.06-.94 2.06-2.06.94z\"/><path d=\"M17.41 7.96l-1.37-1.37c-.4-.4-.92-.59-1.43-.59-.52 0-1.04.2-1.43.59L10.3 9.45l-7.72 7.72c-.78.78-.78 2.05 0 2.83L4 21.41c.39.39.9.59 1.41.59.51 0 1.02-.2 1.41-.59l7.78-7.78 2.81-2.81c.8-.78.8-2.07 0-2.86zM5.41 20L4 18.59l7.72-7.72 1.47 1.35L5.41 20z\"/>\n",
              "  </svg>\n",
              "      </button>\n",
              "      \n",
              "  <style>\n",
              "    .colab-df-container {\n",
              "      display:flex;\n",
              "      flex-wrap:wrap;\n",
              "      gap: 12px;\n",
              "    }\n",
              "\n",
              "    .colab-df-convert {\n",
              "      background-color: #E8F0FE;\n",
              "      border: none;\n",
              "      border-radius: 50%;\n",
              "      cursor: pointer;\n",
              "      display: none;\n",
              "      fill: #1967D2;\n",
              "      height: 32px;\n",
              "      padding: 0 0 0 0;\n",
              "      width: 32px;\n",
              "    }\n",
              "\n",
              "    .colab-df-convert:hover {\n",
              "      background-color: #E2EBFA;\n",
              "      box-shadow: 0px 1px 2px rgba(60, 64, 67, 0.3), 0px 1px 3px 1px rgba(60, 64, 67, 0.15);\n",
              "      fill: #174EA6;\n",
              "    }\n",
              "\n",
              "    [theme=dark] .colab-df-convert {\n",
              "      background-color: #3B4455;\n",
              "      fill: #D2E3FC;\n",
              "    }\n",
              "\n",
              "    [theme=dark] .colab-df-convert:hover {\n",
              "      background-color: #434B5C;\n",
              "      box-shadow: 0px 1px 3px 1px rgba(0, 0, 0, 0.15);\n",
              "      filter: drop-shadow(0px 1px 2px rgba(0, 0, 0, 0.3));\n",
              "      fill: #FFFFFF;\n",
              "    }\n",
              "  </style>\n",
              "\n",
              "      <script>\n",
              "        const buttonEl =\n",
              "          document.querySelector('#df-4656d7a8-a91d-4d37-b8a9-8e832a48b285 button.colab-df-convert');\n",
              "        buttonEl.style.display =\n",
              "          google.colab.kernel.accessAllowed ? 'block' : 'none';\n",
              "\n",
              "        async function convertToInteractive(key) {\n",
              "          const element = document.querySelector('#df-4656d7a8-a91d-4d37-b8a9-8e832a48b285');\n",
              "          const dataTable =\n",
              "            await google.colab.kernel.invokeFunction('convertToInteractive',\n",
              "                                                     [key], {});\n",
              "          if (!dataTable) return;\n",
              "\n",
              "          const docLinkHtml = 'Like what you see? Visit the ' +\n",
              "            '<a target=\"_blank\" href=https://colab.research.google.com/notebooks/data_table.ipynb>data table notebook</a>'\n",
              "            + ' to learn more about interactive tables.';\n",
              "          element.innerHTML = '';\n",
              "          dataTable['output_type'] = 'display_data';\n",
              "          await google.colab.output.renderOutput(dataTable, element);\n",
              "          const docLink = document.createElement('div');\n",
              "          docLink.innerHTML = docLinkHtml;\n",
              "          element.appendChild(docLink);\n",
              "        }\n",
              "      </script>\n",
              "    </div>\n",
              "  </div>\n",
              "  "
            ],
            "text/plain": [
              "                                                    type  ...                           activity\n",
              "F2                            2 - Trator John Deere 8260  ...        OFF - Desligamento/Shutdown\n",
              "F3                            2 - Trator John Deere 8260  ...        OFF - Desligamento/Shutdown\n",
              "F4                            2 - Trator John Deere 8260  ...        OFF - Desligamento/Shutdown\n",
              "F5                            2 - Trator John Deere 8260  ...        OFF - Desligamento/Shutdown\n",
              "F6                            2 - Trator John Deere 8260  ...        OFF - Desligamento/Shutdown\n",
              "...                                                  ...  ...                                ...\n",
              "F10436  8 - Trator Case 260 (Remap. 290cv) / Case MX 315  ...  0 - Não selecionada/Not confirmed\n",
              "F10437  8 - Trator Case 260 (Remap. 290cv) / Case MX 315  ...  0 - Não selecionada/Not confirmed\n",
              "F10438  8 - Trator Case 260 (Remap. 290cv) / Case MX 315  ...  0 - Não selecionada/Not confirmed\n",
              "F10439  8 - Trator Case 260 (Remap. 290cv) / Case MX 315  ...  0 - Não selecionada/Not confirmed\n",
              "F10440  8 - Trator Case 260 (Remap. 290cv) / Case MX 315  ...  0 - Não selecionada/Not confirmed\n",
              "\n",
              "[10439 rows x 5 columns]"
            ]
          },
          "metadata": {},
          "execution_count": 239
        }
      ]
    },
    {
      "cell_type": "code",
      "source": [
        "print(df.head(5),'\\n\\n\\'')\n",
        "print(df.tail(5))"
      ],
      "metadata": {
        "colab": {
          "base_uri": "https://localhost:8080/"
        },
        "id": "-tdlVTXv2tIc",
        "outputId": "bccf3685-51f6-4be9-90af-5279622f61b5"
      },
      "execution_count": 241,
      "outputs": [
        {
          "output_type": "stream",
          "name": "stdout",
          "text": [
            "                          type     start  ...  duration                     activity\n",
            "F2  2 - Trator John Deere 8260  00:00:00  ...  01:00:00  OFF - Desligamento/Shutdown\n",
            "F3  2 - Trator John Deere 8260  01:00:00  ...  01:00:00  OFF - Desligamento/Shutdown\n",
            "F4  2 - Trator John Deere 8260  02:00:00  ...  01:00:00  OFF - Desligamento/Shutdown\n",
            "F5  2 - Trator John Deere 8260  03:00:00  ...  01:00:00  OFF - Desligamento/Shutdown\n",
            "F6  2 - Trator John Deere 8260  04:00:00  ...  01:00:00  OFF - Desligamento/Shutdown\n",
            "\n",
            "[5 rows x 5 columns] \n",
            "\n",
            "'\n",
            "                                                    type  ...                           activity\n",
            "F10436  8 - Trator Case 260 (Remap. 290cv) / Case MX 315  ...  0 - Não selecionada/Not confirmed\n",
            "F10437  8 - Trator Case 260 (Remap. 290cv) / Case MX 315  ...  0 - Não selecionada/Not confirmed\n",
            "F10438  8 - Trator Case 260 (Remap. 290cv) / Case MX 315  ...  0 - Não selecionada/Not confirmed\n",
            "F10439  8 - Trator Case 260 (Remap. 290cv) / Case MX 315  ...  0 - Não selecionada/Not confirmed\n",
            "F10440  8 - Trator Case 260 (Remap. 290cv) / Case MX 315  ...  0 - Não selecionada/Not confirmed\n",
            "\n",
            "[5 rows x 5 columns]\n"
          ]
        }
      ]
    },
    {
      "cell_type": "code",
      "source": [
        "df.loc[\"F22\"]"
      ],
      "metadata": {
        "colab": {
          "base_uri": "https://localhost:8080/"
        },
        "id": "WexjVIJF10uH",
        "outputId": "7b7d7c73-efed-4065-d5bc-72404fa99681"
      },
      "execution_count": 242,
      "outputs": [
        {
          "output_type": "execute_result",
          "data": {
            "text/plain": [
              "type         2 - Trator John Deere 8260\n",
              "start                          20:00:00\n",
              "end                            21:00:00\n",
              "duration                       01:00:00\n",
              "activity    OFF - Desligamento/Shutdown\n",
              "Name: F22, dtype: object"
            ]
          },
          "metadata": {},
          "execution_count": 242
        }
      ]
    },
    {
      "cell_type": "code",
      "source": [
        ""
      ],
      "metadata": {
        "id": "6jkcihTd3JFv"
      },
      "execution_count": null,
      "outputs": []
    }
  ]
}